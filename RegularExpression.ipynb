{
 "cells": [
  {
   "cell_type": "markdown",
   "metadata": {},
   "source": [
    "# Regular Expression (re)\n",
    "- It stands for regular expression\n",
    "- It is python modules\n",
    "- Special search pattern to find and\n",
    "   manipulate text."
   ]
  },
  {
   "cell_type": "code",
   "execution_count": 1,
   "metadata": {},
   "outputs": [],
   "source": [
    "# Regular expression...Power full modules..\n",
    "import re\n",
    "text = 'on 2023-09-17, the conference will begin. The event will end on 2023-09-19.'\n",
    "date_pattern = r\"\\d{4}-\\d{2}-\\d{2}\"\n",
    "dates = re.findall(date_pattern,text)"
   ]
  },
  {
   "cell_type": "code",
   "execution_count": 2,
   "metadata": {},
   "outputs": [
    {
     "name": "stdout",
     "output_type": "stream",
     "text": [
      "<re.Match object; span=(0, 6), match='python'> python\n",
      "Match found:  python\n",
      "<class 're.Match'>\n"
     ]
    }
   ],
   "source": [
    "# Regular expression basic methods\n",
    "# search\n",
    "import re\n",
    "pattern = \"python\"\n",
    "data = \"python is very powerful and python has lots of features.\"\n",
    "match = re.search(pattern,data)\n",
    "\n",
    "print(match , match.group())\n",
    "if match:\n",
    "    print(\"Match found: \" ,match.group())\n",
    "\n",
    "else:\n",
    "    print(\"Match not found\")\n",
    "print(type(match))"
   ]
  },
  {
   "cell_type": "code",
   "execution_count": 3,
   "metadata": {},
   "outputs": [
    {
     "name": "stdout",
     "output_type": "stream",
     "text": [
      "<re.Match object; span=(27, 33), match='python'> python\n",
      "Match found:  python\n",
      "<class 're.Match'>\n"
     ]
    }
   ],
   "source": [
    "# Flag\n",
    "import re\n",
    "pattern = r\"pythoN\"\n",
    "data = \"pyTho is very powerful and python has lots of features.\"\n",
    "match = re.search(pattern,data,re.IGNORECASE)\n",
    "\n",
    "print(match , match.group())\n",
    "if match:\n",
    "    print(\"Match found: \" ,match.group())\n",
    "\n",
    "else:\n",
    "    print(\"Match not found\")\n",
    "print(type(match))"
   ]
  },
  {
   "cell_type": "code",
   "execution_count": 5,
   "metadata": {},
   "outputs": [
    {
     "name": "stdout",
     "output_type": "stream",
     "text": [
      "<re.Match object; span=(33, 39), match='python'> python\n",
      "Match found:  python\n",
      "<class 're.Match'>\n"
     ]
    }
   ],
   "source": [
    "# match()-methods only return true if its at beginning occurs\n",
    "import re\n",
    "pattern = r\"pythoN\"\n",
    "data = \"Hello,pyTho is very powerful and python has lots of features.\"\n",
    "match = re.search(pattern,data,re.IGNORECASE)\n",
    "\n",
    "print(match , match.group())\n",
    "if match:\n",
    "    print(\"Match found: \" ,match.group())\n",
    "\n",
    "else:\n",
    "    print(\"Match not found\")\n",
    "print(type(match))"
   ]
  },
  {
   "cell_type": "code",
   "execution_count": 6,
   "metadata": {},
   "outputs": [
    {
     "name": "stdout",
     "output_type": "stream",
     "text": [
      "<re.Match object; span=(33, 39), match='python'> python\n",
      "Match found:  python\n",
      "<class 're.Match'>\n"
     ]
    }
   ],
   "source": [
    "# Methods to write regular expression..\n",
    "#    1. directly [patterns (as strings)]    2. regular expression objects\n",
    "# compile(pattern , re.IGNORECASE)...used to covert the regulare expression object\n",
    "import re\n",
    "pattern = re.compile(r\"pythoN\",re.IGNORECASE)\n",
    "\n",
    "data = \"Hello,pyTho is very powerful and python has lots of features.\"\n",
    "match = re.search(pattern,data)\n",
    "\n",
    "print(match , match.group())\n",
    "if match:\n",
    "    print(\"Match found: \" ,match.group())\n",
    "\n",
    "else:\n",
    "    print(\"Match not found\")\n",
    "print(type(match))\n"
   ]
  },
  {
   "cell_type": "code",
   "execution_count": 10,
   "metadata": {},
   "outputs": [
    {
     "name": "stdout",
     "output_type": "stream",
     "text": [
      "<class 'callable_iterator'>\n",
      "start = 0, end = 2 and element = ab\n",
      "start = 3, end = 5 and element = ab\n",
      "start = 5, end = 7 and element = ab\n",
      "occurrence is : 3\n"
     ]
    }
   ],
   "source": [
    "# finditer()-methods..use to find the occurrence.\n",
    "import re\n",
    "pattern = re.compile(r'ab',re.IGNORECASE)\n",
    "data = \"abaababa\"\n",
    "match_iter = re.finditer(pattern,data)\n",
    "print(type(match_iter))\n",
    "occur = 0\n",
    "for match in match_iter:\n",
    "    print(f\"start = {match.start()}, end = {match.end()} and element = {match.group()}\")\n",
    "    occur+=1\n",
    "print(f'occurrence is : {occur}')    "
   ]
  },
  {
   "cell_type": "code",
   "execution_count": 12,
   "metadata": {},
   "outputs": [
    {
     "name": "stdout",
     "output_type": "stream",
     "text": [
      "<class 'list'>\n",
      "['ab', 'ab', 'ab']\n",
      "ab\n",
      "ab\n",
      "ab\n",
      "occurrence is : 3\n"
     ]
    }
   ],
   "source": [
    "# findall()--return the list of patterns\n",
    "import re\n",
    "pattern = re.compile(r'ab',re.IGNORECASE)\n",
    "data = \"abaababa\"\n",
    "match_list = re.findall(pattern,data)\n",
    "print(type(match_list))\n",
    "print(match_list)\n",
    "occur = 0\n",
    "for match in match_list:\n",
    "    # print(f\"start = {match.start()}, end = {match.end()} and element = {match.group()}\")\n",
    "    print(match)\n",
    "    occur+=1\n",
    "print(f'occurrence is : {occur}') "
   ]
  },
  {
   "cell_type": "code",
   "execution_count": 20,
   "metadata": {},
   "outputs": [
    {
     "name": "stdout",
     "output_type": "stream",
     "text": [
      "<re.Match object; span=(14, 15), match='1'>\n",
      "<re.Match object; span=(15, 16), match='2'>\n",
      "<re.Match object; span=(16, 17), match='3'>\n"
     ]
    }
   ],
   "source": [
    "# Digit presents or not...\n",
    "import re\n",
    "pattern = re.compile(r'[0-9]')\n",
    "data = 'The price is $123.'\n",
    "match_iter = re.finditer(pattern,data)\n",
    "for match in match_iter:\n",
    "    print(match)\n",
    "\n",
    "     "
   ]
  },
  {
   "cell_type": "code",
   "execution_count": 24,
   "metadata": {},
   "outputs": [
    {
     "name": "stdout",
     "output_type": "stream",
     "text": [
      "['1', '2', '3', '4']\n",
      "1\n",
      "2\n",
      "3\n",
      "4\n"
     ]
    }
   ],
   "source": [
    "pattern = re.compile(r'[0-9]')\n",
    "data = 'The price is1234 $.'\n",
    "match_list = re.findall(pattern,data)\n",
    "print(match_list)\n",
    "for match in match_list:\n",
    "    print(match)\n",
    "\n",
    "# if match_iter != None:\n",
    "#     print(\"Digit present\")\n",
    "# else:\n",
    "#     print(\"digit not present\")   "
   ]
  },
  {
   "cell_type": "code",
   "execution_count": 25,
   "metadata": {},
   "outputs": [
    {
     "name": "stdout",
     "output_type": "stream",
     "text": [
      "['1', '2', '3', '4']\n",
      "1\n",
      "2\n",
      "3\n",
      "4\n"
     ]
    }
   ],
   "source": [
    "pattern = re.compile(r'\\d')\n",
    "data = 'The price is1234 $.'\n",
    "match_list = re.findall(pattern,data)\n",
    "print(match_list)\n",
    "for match in match_list:\n",
    "    print(match)"
   ]
  },
  {
   "cell_type": "code",
   "execution_count": 27,
   "metadata": {},
   "outputs": [
    {
     "name": "stdout",
     "output_type": "stream",
     "text": [
      "['h', 'e', 'p', 'r', 'i', 'c', 'e', 'i', 's']\n",
      "h\n",
      "e\n",
      "p\n",
      "r\n",
      "i\n",
      "c\n",
      "e\n",
      "i\n",
      "s\n"
     ]
    }
   ],
   "source": [
    "# Alphabet\n",
    "pattern = re.compile(r'[a-z]')\n",
    "data = 'The price is1234 $.'\n",
    "match_list = re.findall(pattern,data)\n",
    "print(match_list)\n",
    "for match in match_list:\n",
    "    print(match)"
   ]
  },
  {
   "cell_type": "code",
   "execution_count": 33,
   "metadata": {},
   "outputs": [
    {
     "name": "stdout",
     "output_type": "stream",
     "text": [
      "[]\n"
     ]
    }
   ],
   "source": [
    "pattern = re.compile(r'A-Z')\n",
    "data = 'The price is1234 $.'\n",
    "match_list = re.findall(pattern,data)\n",
    "print(match_list)\n",
    "for match in match_list:\n",
    "    print(match)"
   ]
  },
  {
   "cell_type": "code",
   "execution_count": 34,
   "metadata": {},
   "outputs": [
    {
     "name": "stdout",
     "output_type": "stream",
     "text": [
      "['T']\n",
      "T\n"
     ]
    }
   ],
   "source": [
    "pattern = re.compile(r'[A-Z]')\n",
    "data = 'The price is1234 $.'\n",
    "match_list = re.findall(pattern,data)\n",
    "print(match_list)\n",
    "for match in match_list:\n",
    "    print(match)"
   ]
  },
  {
   "cell_type": "code",
   "execution_count": 35,
   "metadata": {},
   "outputs": [
    {
     "name": "stdout",
     "output_type": "stream",
     "text": [
      "['e', 'i', 'e', 'i']\n",
      "e\n",
      "i\n",
      "e\n",
      "i\n"
     ]
    }
   ],
   "source": [
    "pattern = re.compile(r'[aeiou]')\n",
    "data = 'The price is1234 $.'\n",
    "match_list = re.findall(pattern,data)\n",
    "print(match_list)\n",
    "for match in match_list:\n",
    "    print(match)"
   ]
  },
  {
   "cell_type": "code",
   "execution_count": 36,
   "metadata": {},
   "outputs": [
    {
     "name": "stdout",
     "output_type": "stream",
     "text": [
      "['$']\n",
      "$\n"
     ]
    }
   ],
   "source": [
    "pattern = re.compile(r'[#$]')\n",
    "data = 'The price is1234 $.'\n",
    "match_list = re.findall(pattern,data)\n",
    "print(match_list)\n",
    "for match in match_list:\n",
    "    print(match)"
   ]
  },
  {
   "cell_type": "code",
   "execution_count": 38,
   "metadata": {},
   "outputs": [
    {
     "name": "stdout",
     "output_type": "stream",
     "text": [
      "['T', 'h', 'e', 'p', 'r', 'i', 'c', 'e', 'i', 's', '1', '2', '3', '4']\n",
      "T\n",
      "h\n",
      "e\n",
      "p\n",
      "r\n",
      "i\n",
      "c\n",
      "e\n",
      "i\n",
      "s\n",
      "1\n",
      "2\n",
      "3\n",
      "4\n"
     ]
    }
   ],
   "source": [
    "pattern = re.compile(r'[a-zA-Z0-9]')\n",
    "data = 'The price is1234 $.'\n",
    "match_list = re.findall(pattern,data)\n",
    "print(match_list)\n",
    "for match in match_list:\n",
    "    print(match)"
   ]
  },
  {
   "cell_type": "code",
   "execution_count": 41,
   "metadata": {},
   "outputs": [
    {
     "name": "stdout",
     "output_type": "stream",
     "text": [
      "['T', 'h', 'e', 'p', 'r', 'i', 'c', 'e', 'i', 's', '$', '.']\n",
      "T\n",
      "h\n",
      "e\n",
      "p\n",
      "r\n",
      "i\n",
      "c\n",
      "e\n",
      "i\n",
      "s\n",
      "$\n",
      ".\n"
     ]
    }
   ],
   "source": [
    "pattern = re.compile(r'[^0-9 ]')  #-^ symbol act as exclude\n",
    "data = 'The price is1234 $.'\n",
    "match_list = re.findall(pattern,data)\n",
    "print(match_list)\n",
    "for match in match_list:\n",
    "    print(match)"
   ]
  },
  {
   "cell_type": "code",
   "execution_count": 50,
   "metadata": {},
   "outputs": [
    {
     "name": "stdout",
     "output_type": "stream",
     "text": [
      "valid password\n"
     ]
    }
   ],
   "source": [
    "# condition for password :-1. contains at least one digit or at least one uppercase letter.\n",
    "pattern = re.compile(r'[0-9A-Z]')\n",
    "userInput = input(\"Enter password: \")\n",
    "if re.findall(pattern,userInput):\n",
    "    print(\"valid password\")\n",
    "\n",
    "else:\n",
    "    print(\"Invalid password\")"
   ]
  },
  {
   "cell_type": "code",
   "execution_count": null,
   "metadata": {},
   "outputs": [],
   "source": [
    "pattern = re.compile(r'[0-9A-Z]')\n",
    "userInput = input(\"Enter password: \")\n",
    "if re.findall(pattern,userInput):\n",
    "    print(\"valid password\")\n",
    "\n",
    "else:\n",
    "    print(\"Invalid password\")"
   ]
  },
  {
   "cell_type": "code",
   "execution_count": 51,
   "metadata": {},
   "outputs": [
    {
     "name": "stdout",
     "output_type": "stream",
     "text": [
      "['1', '2', '3', '4']\n",
      "1\n",
      "2\n",
      "3\n",
      "4\n"
     ]
    }
   ],
   "source": [
    "#  Special Sequence:\n",
    "pattern = re.compile(r'\\d')\n",
    "data = 'The price is1234 $.'\n",
    "match_list = re.findall(pattern,data)\n",
    "print(match_list)\n",
    "for match in match_list:\n",
    "    print(match)"
   ]
  },
  {
   "cell_type": "code",
   "execution_count": 52,
   "metadata": {},
   "outputs": [
    {
     "name": "stdout",
     "output_type": "stream",
     "text": [
      "Invalid password\n"
     ]
    }
   ],
   "source": [
    "import re\n",
    "\n",
    "# Combined pattern using lookaheads\n",
    "pattern = re.compile(r'^(?=.*[0-9])(?=.*[A-Z]).+$')\n",
    "\n",
    "userInput = input(\"Enter password: \")\n",
    "\n",
    "if re.match(pattern, userInput):\n",
    "    print(\"Valid password\")\n",
    "else:\n",
    "    print(\"Invalid password\")\n"
   ]
  },
  {
   "cell_type": "code",
   "execution_count": 53,
   "metadata": {},
   "outputs": [
    {
     "name": "stdout",
     "output_type": "stream",
     "text": [
      "Valid password\n"
     ]
    }
   ],
   "source": [
    "import re\n",
    "\n",
    "# Define patterns\n",
    "digit_pattern = re.compile(r'[0-9]')\n",
    "uppercase_pattern = re.compile(r'[A-Z]')\n",
    "\n",
    "userInput = input(\"Enter password: \")\n",
    "\n",
    "# Check for at least one digit and at least one uppercase letter\n",
    "if re.search(digit_pattern, userInput) and re.search(uppercase_pattern, userInput):\n",
    "    print(\"Valid password\")\n",
    "else:\n",
    "    print(\"Invalid password\")\n"
   ]
  },
  {
   "cell_type": "code",
   "execution_count": 2,
   "metadata": {},
   "outputs": [
    {
     "name": "stdout",
     "output_type": "stream",
     "text": [
      "invalid email\n"
     ]
    }
   ],
   "source": [
    "# Quantifiers in python: +,@,{},{a},{a,b},{,b}\n",
    "# some real life uses of RegEx:\n",
    "# 1. Data Validation ex. mobile number , pan card number , gmail validations.\n",
    "'''\n",
    "rules:-\n",
    "1. username can contain alphabets (uppercase,lowercase,_,.)\n",
    "2. username can contain digits but can't start with digit\n",
    "3. format should be username@domain.com\n",
    "4. domain must contain alphabets (uppercase,lowercase)\n",
    "shantanukejkar10@gmail.com\n",
    "'''\n",
    "import re\n",
    "email = input(\"Enter email address:\")\n",
    "pattern = re.compile(r'^[a-zA-Z_][\\w+_\\.]+@[a-zA-Z]+\\.\\w+')\n",
    "match = re.match(pattern,email)\n",
    "if match:\n",
    "    print(\"valid email\")\n",
    "\n",
    "else:\n",
    "    print(\"invalid email\")    \n"
   ]
  },
  {
   "cell_type": "code",
   "execution_count": 13,
   "metadata": {},
   "outputs": [
    {
     "name": "stdout",
     "output_type": "stream",
     "text": [
      "#(555) +91-907,576,3738 (7753)978,965,7854  (123) +91-907,865,4367\n",
      "['(555) +91-907,576,3738', '(7753)978,965,7854', '(123) +91-907,865,4367']\n"
     ]
    }
   ],
   "source": [
    "# 2. Data Extraction\n",
    "#  ex. Mobile number extraction from huge data\n",
    "import re\n",
    "f = open(\"my_data.txt\")\n",
    "data = f.read()\n",
    "print(data)\n",
    "pattern =r'\\(\\d{3,4}\\)\\s?(?:\\+\\d{2}-)?\\d{3},\\d{3},\\d{4}'\n",
    "match_list = re.findall(pattern,data)\n",
    "print(match_list)"
   ]
  },
  {
   "cell_type": "code",
   "execution_count": 15,
   "metadata": {},
   "outputs": [
    {
     "name": "stdout",
     "output_type": "stream",
     "text": [
      " this is a sentence with extra spaces. \n"
     ]
    }
   ],
   "source": [
    "# 3. Data Cleaning\n",
    "#  ex. whitespaces removal\n",
    "import re\n",
    "text = \"  this    is    a   sentence with extra       spaces.       \"\n",
    "pattern = r'\\s+'\n",
    "cleand_text = re.sub(pattern,' ', text)\n",
    "print(cleand_text)"
   ]
  },
  {
   "cell_type": "code",
   "execution_count": null,
   "metadata": {},
   "outputs": [],
   "source": [
    "# 4. web Scraping \n",
    "# finding links in webpage data"
   ]
  },
  {
   "cell_type": "markdown",
   "metadata": {},
   "source": []
  }
 ],
 "metadata": {
  "kernelspec": {
   "display_name": "Python 3",
   "language": "python",
   "name": "python3"
  },
  "language_info": {
   "codemirror_mode": {
    "name": "ipython",
    "version": 3
   },
   "file_extension": ".py",
   "mimetype": "text/x-python",
   "name": "python",
   "nbconvert_exporter": "python",
   "pygments_lexer": "ipython3",
   "version": "3.11.0"
  }
 },
 "nbformat": 4,
 "nbformat_minor": 2
}
